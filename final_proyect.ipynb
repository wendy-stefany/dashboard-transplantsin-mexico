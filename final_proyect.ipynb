{
 "cells": [
  {
   "cell_type": "markdown",
   "metadata": {},
   "source": [
    "# Final Project - Dashboard Transplants in México\n",
    "\n",
    "**Name:** Rommel Antunez Barrios \n",
    "\n",
    "**e-mail:** rommel.antunez6474@alumnos.udg.mx\n",
    "\n",
    "**Name:** Wendy Stefany Escamilla Valadez \n",
    "\n",
    "**e-mail:** wendy.escamilla@cucei.udg.mx\n"
   ]
  },
  {
   "cell_type": "markdown",
   "metadata": {},
   "source": [
    "## Dataset\n",
    "\n",
    "The dataset takes the name of “Datos Abiertos de México - Trasplantes de órganos y tejidos\n",
    "(2007-1er semestre 2020)”. It was obtained from El Centro Nacional de Trasplantes\n",
    "(CENATRA), translated as The National Center of transplants. The dataset has the records\n",
    "of patients that received organ transplant of any kind, the date of which the patient joined the\n",
    "waiting list, date of transplant, time elapsed, age of the patient, type of donation and which\n",
    "organ or tissue.\n",
    "\n",
    "## General objective\n",
    "This dataset is important for us to work with, because of the nature of the data, we believe\n",
    "that this information could be useful for different purposes, not only educational but to inform\n",
    "the people in need to have a notion of what they can expect in case of needing a procedure\n",
    "of this kind."
   ]
  },
  {
   "cell_type": "markdown",
   "metadata": {},
   "source": [
    "### Modules"
   ]
  },
  {
   "cell_type": "code",
   "execution_count": 1,
   "metadata": {},
   "outputs": [
    {
     "name": "stderr",
     "output_type": "stream",
     "text": [
      "C:\\Users\\wendy\\AppData\\Local\\Temp\\ipykernel_4836\\2035458946.py:1: DeprecationWarning: \n",
      "Pyarrow will become a required dependency of pandas in the next major release of pandas (pandas 3.0),\n",
      "(to allow more performant data types, such as the Arrow string type, and better interoperability with other libraries)\n",
      "but was not found to be installed on your system.\n",
      "If this would cause problems for you,\n",
      "please provide us feedback at https://github.com/pandas-dev/pandas/issues/54466\n",
      "        \n",
      "  import pandas as pd\n"
     ]
    }
   ],
   "source": [
    "\n"
   ]
  },
  {
   "cell_type": "markdown",
   "metadata": {},
   "source": [
    "### Import dataset"
   ]
  },
  {
   "cell_type": "code",
   "execution_count": null,
   "metadata": {},
   "outputs": [],
   "source": []
  }
 ],
 "metadata": {
  "kernelspec": {
   "display_name": "Python 3",
   "language": "python",
   "name": "python3"
  },
  "language_info": {
   "codemirror_mode": {
    "name": "ipython",
    "version": 3
   },
   "file_extension": ".py",
   "mimetype": "text/x-python",
   "name": "python",
   "nbconvert_exporter": "python",
   "pygments_lexer": "ipython3",
   "version": "3.11.8"
  }
 },
 "nbformat": 4,
 "nbformat_minor": 2
}
